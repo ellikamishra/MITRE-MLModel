{
 "cells": [
  {
   "cell_type": "code",
   "execution_count": null,
   "metadata": {},
   "outputs": [],
   "source": [
    "import pandas as pd\n",
    "import numpy as np\n",
    "import json\n",
    "\n",
    "file = open('MitreData.json')\n",
    "\n",
    "obj_list = []\n",
    "dict = {}\n",
    "\n",
    "for line in file:\n",
    "    obj_list.append(eval(line))\n",
    "\n",
    "new_list = []\n",
    "for item in obj_list:\n",
    "    # if(len(item['tactics'])>1):\n",
    "    #     for tactic in item['tactics']:\n",
    "    #         dict = item\n",
    "    #         dict['tactics'] = tactic\n",
    "    #         new_list.append(dict)\n",
    "    # else:\n",
    "    dict = item\n",
    "    #dict['tactics'] = item['tactics'][0]\n",
    "    new_list.append(dict)\n",
    "\n",
    "df = pd.DataFrame(new_list)\n",
    "df.head()"
   ]
  },
  {
   "cell_type": "code",
   "execution_count": null,
   "metadata": {},
   "outputs": [],
   "source": [
    "fileD = open('DataSources.json')\n",
    "\n",
    "objD_list = []\n",
    "for line in fileD:\n",
    "    objD_list.append(eval(line))\n",
    "    \n",
    "df_DS = pd.DataFrame(objD_list)\n",
    "df_DS.head()"
   ]
  },
  {
   "cell_type": "code",
   "execution_count": null,
   "metadata": {},
   "outputs": [],
   "source": [
    "tramp=pd.read_json('https://raw.githubusercontent.com/center-for-threat-informed-defense/tram/master/data/training/bootstrap-training-data-small.json')"
   ]
  },
  {
   "cell_type": "code",
   "execution_count": null,
   "metadata": {},
   "outputs": [],
   "source": [
    "df_tramp=tramp['sentences']\n",
    "\n",
    "dict_tr={'id':[],'text':[]}\n",
    "index=0\n",
    "for i in df_tramp:\n",
    "    \n",
    "    idv=i['mappings'][0]['attack_id']\n",
    "   \n",
    "    dict_tr['id'].append(idv)\n",
    "    dict_tr['text'].append(i['text'])\n",
    "    \n",
    "df_tr=pd.DataFrame(dict_tr)"
   ]
  },
  {
   "cell_type": "code",
   "execution_count": null,
   "metadata": {},
   "outputs": [],
   "source": [
    "df_comb=df.join(df_tr.set_index('id'),on='id')"
   ]
  },
  {
   "cell_type": "code",
   "execution_count": null,
   "metadata": {},
   "outputs": [],
   "source": [
    "# df_comb.drop(df.iloc[:, 8:22], inplace = True, axis = 1)\n",
    "# df_comb.drop(['subtechniqueof'])\n",
    "df_comb=df_comb.fillna(df_comb.mode().iloc[0])\n",
    "df_comb.head()"
   ]
  },
  {
   "cell_type": "code",
   "execution_count": null,
   "metadata": {},
   "outputs": [],
   "source": [
    "df_comb['id'].value_counts()\n",
    "tids = df_comb['id'].unique()\n",
    "dict_target = {}\n",
    "i = 0\n",
    "for x in tids:\n",
    "     dict_target[x] = i\n",
    "     i = i + 1\n",
    "#print(dict_target)\n",
    "\n",
    "df_comb['num_target']=df_comb['id'].map(dict_target)\n",
    "df_comb.head()"
   ]
  },
  {
   "cell_type": "code",
   "execution_count": null,
   "metadata": {},
   "outputs": [],
   "source": [
    "df_comb['combined'] = df_comb[['detection', 'description', 'mitigations', 'procedureexamples', 'tactics','text']].apply(lambda x: \",\".join(x.astype(str)), axis=1)\n",
    "\n",
    "\n",
    "print(df_comb['combined'])"
   ]
  },
  {
   "cell_type": "code",
   "execution_count": null,
   "metadata": {},
   "outputs": [],
   "source": [
    "from sklearn.model_selection import train_test_split\n",
    "\n",
    "x_train, x_test, y_train, y_test = train_test_split(df_comb['combined'], df_comb['num_target'], test_size=0.25, random_state=50)"
   ]
  },
  {
   "cell_type": "code",
   "execution_count": null,
   "metadata": {},
   "outputs": [],
   "source": [
    "from sklearn.feature_extraction.text import CountVectorizer\n",
    "\n",
    "vect = CountVectorizer(ngram_range=(2,2))\n",
    "#converting traning features into numeric vector\n",
    "#print(x_train)\n",
    "X_train = vect.fit_transform(x_train)\n",
    "#converting training labels into numeric vector\n",
    "# logs_list = []\n",
    "# obj = {}\n",
    "# obj[520] = \"Logon from a rare country compared to entire organization -DUO Authentication-Cloud Authentication SSO Single Sign-On\"\n",
    "# logs_list[0] = obj[0]\n",
    "# df = pd.DataFrame(new_list)\n",
    "X_test = vect.transform(x_test)"
   ]
  },
  {
   "cell_type": "code",
   "execution_count": null,
   "metadata": {},
   "outputs": [],
   "source": [
    "from sklearn.naive_bayes import MultinomialNB\n",
    "\n",
    "#Training and Predicting the data\n",
    "mnb = MultinomialNB(alpha =0.2)\n",
    "\n",
    "mnb.fit(X_train,y_train)\n",
    "\n",
    "result= mnb.predict(X_test)\n",
    "# print(result)"
   ]
  },
  {
   "cell_type": "code",
   "execution_count": null,
   "metadata": {},
   "outputs": [],
   "source": [
    "from sklearn.metrics import accuracy_score\n",
    "\n",
    "accuracy_score(result,y_test)"
   ]
  },
  {
   "cell_type": "code",
   "execution_count": null,
   "metadata": {},
   "outputs": [],
   "source": [
    "def predict_tactic(num):\n",
    "    #print(dict_target)\n",
    "    for key, value in dict_target.items():\n",
    "        if num == value:\n",
    "            return key"
   ]
  },
  {
   "cell_type": "code",
   "execution_count": null,
   "metadata": {},
   "outputs": [],
   "source": [
    "desc = [\"All forms of phishing are electronically delivered social engineering\"]\n",
    "desc2 = [\"Suspicious Process Activity- Targeted - Malicious Start Menu Startup Modification Analytic -A2B - EDR \"]\n",
    "test = vect.transform(desc2)\n",
    "pred= mnb.predict(test)\n",
    "print(pred)\n",
    "\n",
    "r = predict_tactic(pred)\n",
    "print (r)"
   ]
  }
 ],
 "metadata": {
  "language_info": {
   "name": "python"
  },
  "orig_nbformat": 4
 },
 "nbformat": 4,
 "nbformat_minor": 2
}
