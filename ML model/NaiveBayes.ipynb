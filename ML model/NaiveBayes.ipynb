{
 "cells": [
  {
   "cell_type": "code",
   "execution_count": 11,
   "metadata": {},
   "outputs": [
    {
     "name": "stdout",
     "output_type": "stream",
     "text": [
      "dict_keys(['techniquename', 'detection', 'description', 'mitigations', 'procedureexamples', 'id', 'subtechniques', 'tactics', 'platforms', 'permissionsrequired', 'defensebypassed', 'contributors', 'version', 'created', 'lastmodified'])\n",
      "['Firewall, Host forensic analysis']\n"
     ]
    }
   ],
   "source": [
    "import pandas as pd\n",
    "import numpy as np\n",
    "import json\n",
    "\n",
    "file = open('MitreData.json')\n",
    "\n",
    "obj_list = []\n",
    "dict = {}\n",
    "\n",
    "for line in file:\n",
    "    obj_list.append(eval(line))\n",
    "\n",
    "new_list = []\n",
    "for item in obj_list:\n",
    "    if(item['id']=='T1197'):\n",
    "        print(item.keys())\n",
    "        print(item['defensebypassed'])\n",
    "    if(len(item['tactics'])>1):\n",
    "        for tactic in item['tactics']:\n",
    "            dict = item\n",
    "            dict['tactics'] = tactic\n",
    "            new_list.append(dict)\n",
    "    else:\n",
    "        dict = item\n",
    "        dict['tactics'] = item['tactics'][0]\n",
    "        new_list.append(dict)\n",
    "\n",
    "df = pd.DataFrame(new_list)\n",
    "#df.head()"
   ]
  },
  {
   "cell_type": "markdown",
   "metadata": {},
   "source": [
    "Datasources"
   ]
  },
  {
   "cell_type": "code",
   "execution_count": 12,
   "metadata": {},
   "outputs": [
    {
     "data": {
      "text/html": [
       "<div>\n",
       "<style scoped>\n",
       "    .dataframe tbody tr th:only-of-type {\n",
       "        vertical-align: middle;\n",
       "    }\n",
       "\n",
       "    .dataframe tbody tr th {\n",
       "        vertical-align: top;\n",
       "    }\n",
       "\n",
       "    .dataframe thead th {\n",
       "        text-align: right;\n",
       "    }\n",
       "</style>\n",
       "<table border=\"1\" class=\"dataframe\">\n",
       "  <thead>\n",
       "    <tr style=\"text-align: right;\">\n",
       "      <th></th>\n",
       "      <th>name</th>\n",
       "      <th>description</th>\n",
       "      <th>id</th>\n",
       "      <th>platform</th>\n",
       "      <th>collectionlayer</th>\n",
       "      <th>version</th>\n",
       "      <th>created</th>\n",
       "      <th>lastmodified</th>\n",
       "      <th>datacomponents</th>\n",
       "      <th>platforms</th>\n",
       "      <th>contributors</th>\n",
       "      <th>collectionlayers</th>\n",
       "    </tr>\n",
       "  </thead>\n",
       "  <tbody>\n",
       "    <tr>\n",
       "      <th>0</th>\n",
       "      <td>Malware Repository</td>\n",
       "      <td>Information obtained (via shared or submitted ...</td>\n",
       "      <td>DS0004</td>\n",
       "      <td>PRE</td>\n",
       "      <td>OSINT</td>\n",
       "      <td>: 1.0</td>\n",
       "      <td>20 October 2021</td>\n",
       "      <td>20 October 2021</td>\n",
       "      <td>[{'Malware Content': {'description': 'Code, st...</td>\n",
       "      <td>NaN</td>\n",
       "      <td>NaN</td>\n",
       "      <td>NaN</td>\n",
       "    </tr>\n",
       "    <tr>\n",
       "      <th>1</th>\n",
       "      <td>Named Pipe</td>\n",
       "      <td>Mechanisms that allow inter-process communicat...</td>\n",
       "      <td>DS0023</td>\n",
       "      <td>NaN</td>\n",
       "      <td>Host</td>\n",
       "      <td>: 1.0</td>\n",
       "      <td>20 October 2021</td>\n",
       "      <td>10 November 2021</td>\n",
       "      <td>[{'Named Pipe Metadata': {'description': 'Cont...</td>\n",
       "      <td>Linux, Windows, macOS</td>\n",
       "      <td>: Center for Threat-Informed Defense (CTID)</td>\n",
       "      <td>NaN</td>\n",
       "    </tr>\n",
       "    <tr>\n",
       "      <th>2</th>\n",
       "      <td>Internet Scan</td>\n",
       "      <td>Information obtained (commonly via active netw...</td>\n",
       "      <td>DS0035</td>\n",
       "      <td>PRE</td>\n",
       "      <td>OSINT</td>\n",
       "      <td>: 1.0</td>\n",
       "      <td>20 October 2021</td>\n",
       "      <td>20 October 2021</td>\n",
       "      <td>[{'Response Content': {'description': 'Logged ...</td>\n",
       "      <td>NaN</td>\n",
       "      <td>NaN</td>\n",
       "      <td>NaN</td>\n",
       "    </tr>\n",
       "    <tr>\n",
       "      <th>3</th>\n",
       "      <td>Network Share</td>\n",
       "      <td>A storage resource (typically a folder or driv...</td>\n",
       "      <td>DS0033</td>\n",
       "      <td>NaN</td>\n",
       "      <td>Host</td>\n",
       "      <td>: 1.0</td>\n",
       "      <td>20 October 2021</td>\n",
       "      <td>10 November 2021</td>\n",
       "      <td>[{'Network Share Access': {'description': 'Ope...</td>\n",
       "      <td>Linux, Windows, macOS</td>\n",
       "      <td>: Center for Threat-Informed Defense (CTID)</td>\n",
       "      <td>NaN</td>\n",
       "    </tr>\n",
       "    <tr>\n",
       "      <th>4</th>\n",
       "      <td>Active Directory</td>\n",
       "      <td>A database and set of services that allows adm...</td>\n",
       "      <td>DS0026</td>\n",
       "      <td>NaN</td>\n",
       "      <td>NaN</td>\n",
       "      <td>: 1.0</td>\n",
       "      <td>20 October 2021</td>\n",
       "      <td>10 November 2021</td>\n",
       "      <td>[{'Active Directory Credential Request': {'des...</td>\n",
       "      <td>Azure AD, Windows</td>\n",
       "      <td>: Center for Threat-Informed Defense (CTID)</td>\n",
       "      <td>Cloud Control Plane, Host</td>\n",
       "    </tr>\n",
       "  </tbody>\n",
       "</table>\n",
       "</div>"
      ],
      "text/plain": [
       "                 name                                        description  \\\n",
       "0  Malware Repository  Information obtained (via shared or submitted ...   \n",
       "1          Named Pipe  Mechanisms that allow inter-process communicat...   \n",
       "2       Internet Scan  Information obtained (commonly via active netw...   \n",
       "3       Network Share  A storage resource (typically a folder or driv...   \n",
       "4    Active Directory  A database and set of services that allows adm...   \n",
       "\n",
       "       id platform collectionlayer version          created      lastmodified  \\\n",
       "0  DS0004      PRE           OSINT   : 1.0  20 October 2021   20 October 2021   \n",
       "1  DS0023      NaN            Host   : 1.0  20 October 2021  10 November 2021   \n",
       "2  DS0035      PRE           OSINT   : 1.0  20 October 2021   20 October 2021   \n",
       "3  DS0033      NaN            Host   : 1.0  20 October 2021  10 November 2021   \n",
       "4  DS0026      NaN             NaN   : 1.0  20 October 2021  10 November 2021   \n",
       "\n",
       "                                      datacomponents              platforms  \\\n",
       "0  [{'Malware Content': {'description': 'Code, st...                    NaN   \n",
       "1  [{'Named Pipe Metadata': {'description': 'Cont...  Linux, Windows, macOS   \n",
       "2  [{'Response Content': {'description': 'Logged ...                    NaN   \n",
       "3  [{'Network Share Access': {'description': 'Ope...  Linux, Windows, macOS   \n",
       "4  [{'Active Directory Credential Request': {'des...      Azure AD, Windows   \n",
       "\n",
       "                                  contributors           collectionlayers  \n",
       "0                                          NaN                        NaN  \n",
       "1  : Center for Threat-Informed Defense (CTID)                        NaN  \n",
       "2                                          NaN                        NaN  \n",
       "3  : Center for Threat-Informed Defense (CTID)                        NaN  \n",
       "4  : Center for Threat-Informed Defense (CTID)  Cloud Control Plane, Host  "
      ]
     },
     "execution_count": 12,
     "metadata": {},
     "output_type": "execute_result"
    }
   ],
   "source": [
    "fileD = open('DataSources.json')\n",
    "\n",
    "objD_list = []\n",
    "for line in fileD:\n",
    "    objD_list.append(eval(line))\n",
    "    \n",
    "df_DS = pd.DataFrame(objD_list)\n",
    "df_DS.head()"
   ]
  },
  {
   "cell_type": "code",
   "execution_count": 3,
   "metadata": {},
   "outputs": [
    {
     "name": "stdout",
     "output_type": "stream",
     "text": [
      "Once adversaries leverage the web service as infrastructure (ex: for command and control), it may be possible to look for unique characteristics associated with adversary software, if known.Much of this activity will take place outside the visibility of the target organization, making detection of this behavior difficult. Detection efforts may be focused on related stages of the adversary lifecycle, such as during Command and Control () or .\n"
     ]
    }
   ],
   "source": [
    "print(df.detection[0])"
   ]
  },
  {
   "cell_type": "markdown",
   "metadata": {},
   "source": [
    "Remove unnecessary columns"
   ]
  },
  {
   "cell_type": "code",
   "execution_count": 13,
   "metadata": {},
   "outputs": [
    {
     "data": {
      "text/html": [
       "<div>\n",
       "<style scoped>\n",
       "    .dataframe tbody tr th:only-of-type {\n",
       "        vertical-align: middle;\n",
       "    }\n",
       "\n",
       "    .dataframe tbody tr th {\n",
       "        vertical-align: top;\n",
       "    }\n",
       "\n",
       "    .dataframe thead th {\n",
       "        text-align: right;\n",
       "    }\n",
       "</style>\n",
       "<table border=\"1\" class=\"dataframe\">\n",
       "  <thead>\n",
       "    <tr style=\"text-align: right;\">\n",
       "      <th></th>\n",
       "      <th>techniquename</th>\n",
       "      <th>detection</th>\n",
       "      <th>description</th>\n",
       "      <th>mitigations</th>\n",
       "      <th>procedureexamples</th>\n",
       "      <th>id</th>\n",
       "      <th>tactics</th>\n",
       "    </tr>\n",
       "  </thead>\n",
       "  <tbody>\n",
       "    <tr>\n",
       "      <th>0</th>\n",
       "      <td>Web Services</td>\n",
       "      <td>Once adversaries leverage the web service as i...</td>\n",
       "      <td>Adversaries may register for web services that...</td>\n",
       "      <td>{'M1056': ' Pre-compromise  : This technique c...</td>\n",
       "      <td>{'G0025': ' APT17  : APT17 has created profile...</td>\n",
       "      <td>T1583.006</td>\n",
       "      <td>Resource Development</td>\n",
       "    </tr>\n",
       "    <tr>\n",
       "      <th>1</th>\n",
       "      <td>Virtual Private Server</td>\n",
       "      <td>Once adversaries have provisioned a VPS (ex: f...</td>\n",
       "      <td>Adversaries may rent Virtual Private Servers (...</td>\n",
       "      <td>{'M1056': ' Pre-compromise  : This technique c...</td>\n",
       "      <td>{'G0125': ' HAFNIUM  : HAFNIUM has operated fr...</td>\n",
       "      <td>T1583.003</td>\n",
       "      <td>Resource Development</td>\n",
       "    </tr>\n",
       "    <tr>\n",
       "      <th>2</th>\n",
       "      <td>DNS Server</td>\n",
       "      <td>Much of this activity will take place outside ...</td>\n",
       "      <td>Adversaries may set up their own Domain Name S...</td>\n",
       "      <td>{'M1056': ' Pre-compromise  : This technique c...</td>\n",
       "      <td>NaN</td>\n",
       "      <td>T1583.002</td>\n",
       "      <td>Resource Development</td>\n",
       "    </tr>\n",
       "    <tr>\n",
       "      <th>3</th>\n",
       "      <td>Acquire Infrastructure</td>\n",
       "      <td>Consider use of services that may aid in track...</td>\n",
       "      <td>Adversaries may buy, lease, or rent infrastruc...</td>\n",
       "      <td>{'M1056': ' Pre-compromise  : This technique c...</td>\n",
       "      <td>NaN</td>\n",
       "      <td>T1583</td>\n",
       "      <td>Resource Development</td>\n",
       "    </tr>\n",
       "    <tr>\n",
       "      <th>4</th>\n",
       "      <td>Server</td>\n",
       "      <td>Once adversaries have provisioned a server (ex...</td>\n",
       "      <td>Adversaries may buy, lease, or rent physical s...</td>\n",
       "      <td>{'M1056': ' Pre-compromise  : This technique c...</td>\n",
       "      <td>{'G0093': ' GALLIUM  : GALLIUM has used Taiwan...</td>\n",
       "      <td>T1583.004</td>\n",
       "      <td>Resource Development</td>\n",
       "    </tr>\n",
       "  </tbody>\n",
       "</table>\n",
       "</div>"
      ],
      "text/plain": [
       "            techniquename                                          detection  \\\n",
       "0            Web Services  Once adversaries leverage the web service as i...   \n",
       "1  Virtual Private Server  Once adversaries have provisioned a VPS (ex: f...   \n",
       "2              DNS Server  Much of this activity will take place outside ...   \n",
       "3  Acquire Infrastructure  Consider use of services that may aid in track...   \n",
       "4                  Server  Once adversaries have provisioned a server (ex...   \n",
       "\n",
       "                                         description  \\\n",
       "0  Adversaries may register for web services that...   \n",
       "1  Adversaries may rent Virtual Private Servers (...   \n",
       "2  Adversaries may set up their own Domain Name S...   \n",
       "3  Adversaries may buy, lease, or rent infrastruc...   \n",
       "4  Adversaries may buy, lease, or rent physical s...   \n",
       "\n",
       "                                         mitigations  \\\n",
       "0  {'M1056': ' Pre-compromise  : This technique c...   \n",
       "1  {'M1056': ' Pre-compromise  : This technique c...   \n",
       "2  {'M1056': ' Pre-compromise  : This technique c...   \n",
       "3  {'M1056': ' Pre-compromise  : This technique c...   \n",
       "4  {'M1056': ' Pre-compromise  : This technique c...   \n",
       "\n",
       "                                   procedureexamples         id  \\\n",
       "0  {'G0025': ' APT17  : APT17 has created profile...  T1583.006   \n",
       "1  {'G0125': ' HAFNIUM  : HAFNIUM has operated fr...  T1583.003   \n",
       "2                                                NaN  T1583.002   \n",
       "3                                                NaN      T1583   \n",
       "4  {'G0093': ' GALLIUM  : GALLIUM has used Taiwan...  T1583.004   \n",
       "\n",
       "                tactics  \n",
       "0  Resource Development  \n",
       "1  Resource Development  \n",
       "2  Resource Development  \n",
       "3  Resource Development  \n",
       "4  Resource Development  "
      ]
     },
     "execution_count": 13,
     "metadata": {},
     "output_type": "execute_result"
    }
   ],
   "source": [
    "df.drop(df.iloc[:, 8:22], inplace = True, axis = 1)\n",
    "df.drop(['subtechniqueof'], inplace = True, axis = 1)\n",
    "df.head()"
   ]
  },
  {
   "cell_type": "markdown",
   "metadata": {},
   "source": [
    "Convert target classes into numerals"
   ]
  },
  {
   "cell_type": "code",
   "execution_count": 14,
   "metadata": {},
   "outputs": [
    {
     "name": "stdout",
     "output_type": "stream",
     "text": [
      "{'Resource Development': 0, 'Reconnaissance': 1, 'Impact': 2, 'Exfiltration': 3, 'Command and Control': 4, 'Collection': 5, 'Lateral Movement': 6, 'Discovery': 7, 'Credential Access': 8, 'Defense Evasion': 9, 'Privilege Escalation': 10, 'Persistence': 11, 'Execution': 12, 'Initial Access': 13}\n"
     ]
    },
    {
     "data": {
      "text/html": [
       "<div>\n",
       "<style scoped>\n",
       "    .dataframe tbody tr th:only-of-type {\n",
       "        vertical-align: middle;\n",
       "    }\n",
       "\n",
       "    .dataframe tbody tr th {\n",
       "        vertical-align: top;\n",
       "    }\n",
       "\n",
       "    .dataframe thead th {\n",
       "        text-align: right;\n",
       "    }\n",
       "</style>\n",
       "<table border=\"1\" class=\"dataframe\">\n",
       "  <thead>\n",
       "    <tr style=\"text-align: right;\">\n",
       "      <th></th>\n",
       "      <th>techniquename</th>\n",
       "      <th>detection</th>\n",
       "      <th>description</th>\n",
       "      <th>mitigations</th>\n",
       "      <th>procedureexamples</th>\n",
       "      <th>id</th>\n",
       "      <th>tactics</th>\n",
       "      <th>num_target</th>\n",
       "    </tr>\n",
       "  </thead>\n",
       "  <tbody>\n",
       "    <tr>\n",
       "      <th>0</th>\n",
       "      <td>Web Services</td>\n",
       "      <td>Once adversaries leverage the web service as i...</td>\n",
       "      <td>Adversaries may register for web services that...</td>\n",
       "      <td>{'M1056': ' Pre-compromise  : This technique c...</td>\n",
       "      <td>{'G0025': ' APT17  : APT17 has created profile...</td>\n",
       "      <td>T1583.006</td>\n",
       "      <td>Resource Development</td>\n",
       "      <td>0</td>\n",
       "    </tr>\n",
       "    <tr>\n",
       "      <th>1</th>\n",
       "      <td>Virtual Private Server</td>\n",
       "      <td>Once adversaries have provisioned a VPS (ex: f...</td>\n",
       "      <td>Adversaries may rent Virtual Private Servers (...</td>\n",
       "      <td>{'M1056': ' Pre-compromise  : This technique c...</td>\n",
       "      <td>{'G0125': ' HAFNIUM  : HAFNIUM has operated fr...</td>\n",
       "      <td>T1583.003</td>\n",
       "      <td>Resource Development</td>\n",
       "      <td>0</td>\n",
       "    </tr>\n",
       "    <tr>\n",
       "      <th>2</th>\n",
       "      <td>DNS Server</td>\n",
       "      <td>Much of this activity will take place outside ...</td>\n",
       "      <td>Adversaries may set up their own Domain Name S...</td>\n",
       "      <td>{'M1056': ' Pre-compromise  : This technique c...</td>\n",
       "      <td>NaN</td>\n",
       "      <td>T1583.002</td>\n",
       "      <td>Resource Development</td>\n",
       "      <td>0</td>\n",
       "    </tr>\n",
       "    <tr>\n",
       "      <th>3</th>\n",
       "      <td>Acquire Infrastructure</td>\n",
       "      <td>Consider use of services that may aid in track...</td>\n",
       "      <td>Adversaries may buy, lease, or rent infrastruc...</td>\n",
       "      <td>{'M1056': ' Pre-compromise  : This technique c...</td>\n",
       "      <td>NaN</td>\n",
       "      <td>T1583</td>\n",
       "      <td>Resource Development</td>\n",
       "      <td>0</td>\n",
       "    </tr>\n",
       "    <tr>\n",
       "      <th>4</th>\n",
       "      <td>Server</td>\n",
       "      <td>Once adversaries have provisioned a server (ex...</td>\n",
       "      <td>Adversaries may buy, lease, or rent physical s...</td>\n",
       "      <td>{'M1056': ' Pre-compromise  : This technique c...</td>\n",
       "      <td>{'G0093': ' GALLIUM  : GALLIUM has used Taiwan...</td>\n",
       "      <td>T1583.004</td>\n",
       "      <td>Resource Development</td>\n",
       "      <td>0</td>\n",
       "    </tr>\n",
       "  </tbody>\n",
       "</table>\n",
       "</div>"
      ],
      "text/plain": [
       "            techniquename                                          detection  \\\n",
       "0            Web Services  Once adversaries leverage the web service as i...   \n",
       "1  Virtual Private Server  Once adversaries have provisioned a VPS (ex: f...   \n",
       "2              DNS Server  Much of this activity will take place outside ...   \n",
       "3  Acquire Infrastructure  Consider use of services that may aid in track...   \n",
       "4                  Server  Once adversaries have provisioned a server (ex...   \n",
       "\n",
       "                                         description  \\\n",
       "0  Adversaries may register for web services that...   \n",
       "1  Adversaries may rent Virtual Private Servers (...   \n",
       "2  Adversaries may set up their own Domain Name S...   \n",
       "3  Adversaries may buy, lease, or rent infrastruc...   \n",
       "4  Adversaries may buy, lease, or rent physical s...   \n",
       "\n",
       "                                         mitigations  \\\n",
       "0  {'M1056': ' Pre-compromise  : This technique c...   \n",
       "1  {'M1056': ' Pre-compromise  : This technique c...   \n",
       "2  {'M1056': ' Pre-compromise  : This technique c...   \n",
       "3  {'M1056': ' Pre-compromise  : This technique c...   \n",
       "4  {'M1056': ' Pre-compromise  : This technique c...   \n",
       "\n",
       "                                   procedureexamples         id  \\\n",
       "0  {'G0025': ' APT17  : APT17 has created profile...  T1583.006   \n",
       "1  {'G0125': ' HAFNIUM  : HAFNIUM has operated fr...  T1583.003   \n",
       "2                                                NaN  T1583.002   \n",
       "3                                                NaN      T1583   \n",
       "4  {'G0093': ' GALLIUM  : GALLIUM has used Taiwan...  T1583.004   \n",
       "\n",
       "                tactics  num_target  \n",
       "0  Resource Development           0  \n",
       "1  Resource Development           0  \n",
       "2  Resource Development           0  \n",
       "3  Resource Development           0  \n",
       "4  Resource Development           0  "
      ]
     },
     "execution_count": 14,
     "metadata": {},
     "output_type": "execute_result"
    }
   ],
   "source": [
    "df['tactics'].value_counts()\n",
    "tactics = df['tactics'].unique()\n",
    "dict_target = {}\n",
    "i = 0\n",
    "for x in tactics:\n",
    "    dict_target[x] = i\n",
    "    i = i + 1\n",
    "print(dict_target)\n",
    "\n",
    "df['num_target']=df['tactics'].map(dict_target)\n",
    "df.head()"
   ]
  },
  {
   "cell_type": "code",
   "execution_count": 25,
   "metadata": {},
   "outputs": [
    {
     "name": "stdout",
     "output_type": "stream",
     "text": [
      "0      Once adversaries leverage the web service as i...\n",
      "1      Once adversaries have provisioned a VPS (ex: f...\n",
      "2      Much of this activity will take place outside ...\n",
      "3      Consider use of services that may aid in track...\n",
      "4      Once adversaries have provisioned a server (ex...\n",
      "                             ...                        \n",
      "726    Internet scanners may be used to look for patt...\n",
      "727    Internet scanners may be used to look for patt...\n",
      "728    Monitor for suspicious network traffic that co...\n",
      "729    Much of this activity may have a very high occ...\n",
      "730    Monitor for suspicious network traffic that co...\n",
      "Name: combined, Length: 731, dtype: object\n"
     ]
    }
   ],
   "source": [
    "\n",
    "df['combined'] = df[['detection', 'description', 'mitigations']].apply(lambda x: \",\".join(x.astype(str)), axis=1)\n",
    "\n",
    "\n",
    "print(df['combined'])"
   ]
  },
  {
   "cell_type": "code",
   "execution_count": 26,
   "metadata": {},
   "outputs": [
    {
     "name": "stdout",
     "output_type": "stream",
     "text": [
      "503    Monitor emond rules creation by checking for f...\n",
      "157    System and network discovery techniques normal...\n",
      "356    Exploitation for defense evasion may happen sh...\n",
      "100    Analyze network data for uncommon data flows (...\n",
      "608    Detection methods will vary depending on the t...\n",
      "                             ...                        \n",
      "132    Identify network traffic sent or received by u...\n",
      "289    Use process monitoring to monitor the executio...\n",
      "109    Analyze network data for uncommon data flows (...\n",
      "480    Look for changes to binaries and service execu...\n",
      "688    If infrastructure or patterns in malware, tool...\n",
      "Name: combined, Length: 584, dtype: object\n"
     ]
    }
   ],
   "source": [
    "from sklearn.model_selection import train_test_split\n",
    "\n",
    "x_train, x_test, y_train, y_test = train_test_split(df.combined, df['num_target'], test_size=0.2, random_state=50)\n",
    "#x_train, x_test, y_train, y_test = train_test_split(df.loc[:, [\"detection\", \"description\", \"mitigations\", \"procedureexamples\"]], df['num_target'], random_state=50)\n",
    "print(x_train)"
   ]
  },
  {
   "cell_type": "code",
   "execution_count": 27,
   "metadata": {},
   "outputs": [],
   "source": [
    "from sklearn.feature_extraction.text import CountVectorizer\n",
    "\n",
    "vect = CountVectorizer(ngram_range=(2,2))\n",
    "#converting traning features into numeric vector\n",
    "X_train = vect.fit_transform(x_train)\n",
    "#converting training labels into numeric vector\n",
    "X_test = vect.transform(x_test)"
   ]
  },
  {
   "cell_type": "code",
   "execution_count": 28,
   "metadata": {},
   "outputs": [
    {
     "name": "stdout",
     "output_type": "stream",
     "text": [
      "[ 9  8  9  9  6 10 13 10 10  8 12  9 12 10 11  1  7  8  0  4 11 12  2 13\n",
      " 11  4 10  9  9 11  1 11  4  8 10 13  0 11  0 11  5  9  9  7 11  1 10 11\n",
      "  0  7  8  9 10  9  4 10 12  1 13  9  1  1  0  9 10 13  9  7  9  8  4  8\n",
      "  8  8  9  7 10  8  1  8  7  4  7  1  9 10  4  5  1 11 13  1  8 12 11 13\n",
      "  5  9 10  7  9  0 10  9  7  8  2  9 10 13 11  4 12  9 10 11  9  5  8 10\n",
      "  8 10  3  6 11  1  5 13  9 10  9  1  9 10 10  9  5 10  7 11 13  6  2 13\n",
      "  0  9  9]\n"
     ]
    }
   ],
   "source": [
    "from sklearn.naive_bayes import MultinomialNB\n",
    "\n",
    "#Training and Predicting the data\n",
    "mnb = MultinomialNB(alpha =0.2)\n",
    "\n",
    "mnb.fit(X_train,y_train)\n",
    "\n",
    "result= mnb.predict(X_test)\n",
    "print(result)"
   ]
  },
  {
   "cell_type": "code",
   "execution_count": 29,
   "metadata": {},
   "outputs": [
    {
     "data": {
      "text/plain": [
       "0.9319727891156463"
      ]
     },
     "execution_count": 29,
     "metadata": {},
     "output_type": "execute_result"
    }
   ],
   "source": [
    "from sklearn.metrics import accuracy_score\n",
    "\n",
    "accuracy_score(result,y_test)"
   ]
  },
  {
   "cell_type": "code",
   "execution_count": 30,
   "metadata": {},
   "outputs": [],
   "source": [
    "def predict_tactic(num):\n",
    "    print(dict_target)\n",
    "    for key, value in dict_target.items():\n",
    "        if num == value:\n",
    "            return key"
   ]
  },
  {
   "cell_type": "code",
   "execution_count": 37,
   "metadata": {},
   "outputs": [
    {
     "name": "stdout",
     "output_type": "stream",
     "text": [
      "[10]\n",
      "{'Resource Development': 0, 'Reconnaissance': 1, 'Impact': 2, 'Exfiltration': 3, 'Command and Control': 4, 'Collection': 5, 'Lateral Movement': 6, 'Discovery': 7, 'Credential Access': 8, 'Defense Evasion': 9, 'Privilege Escalation': 10, 'Persistence': 11, 'Execution': 12, 'Initial Access': 13}\n",
      "Privilege Escalation\n"
     ]
    }
   ],
   "source": [
    "desc = [\"new System Process Creation detected = Create or Modify System Process\"]\n",
    "desc2 = [\"This policy detects possible use of credential dumping tools such as PWDUMP or Mimikatz by checking for various types of files that may be used as command line arguments when running these tools.\"]\n",
    "test = vect.transform(desc)\n",
    "pred= mnb.predict(test)\n",
    "print(pred)\n",
    "r = predict_tactic(pred)\n",
    "print (r)"
   ]
  }
 ],
 "metadata": {
  "interpreter": {
   "hash": "bd9b9fa2e01573c04c615c80eb9deceb460a08e7f2fed43cdd24f3a908b6f3b1"
  },
  "kernelspec": {
   "display_name": "Python 3.8.3 64-bit",
   "language": "python",
   "name": "python3"
  },
  "language_info": {
   "codemirror_mode": {
    "name": "ipython",
    "version": 3
   },
   "file_extension": ".py",
   "mimetype": "text/x-python",
   "name": "python",
   "nbconvert_exporter": "python",
   "pygments_lexer": "ipython3",
   "version": "3.6.8"
  },
  "orig_nbformat": 4
 },
 "nbformat": 4,
 "nbformat_minor": 2
}
